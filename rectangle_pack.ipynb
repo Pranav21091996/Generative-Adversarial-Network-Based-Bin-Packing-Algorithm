{
 "cells": [
  {
   "cell_type": "code",
   "execution_count": 21,
   "metadata": {},
   "outputs": [],
   "source": [
    "from rectpack import newPacker\n",
    "import random\n",
    "import cv2\n",
    "import numpy as np\n",
    "import matplotlib.pyplot as plt\n",
    "from scipy.interpolate import interp1d\n",
    "%matplotlib inline\n",
    "import pickle"
   ]
  },
  {
   "cell_type": "code",
   "execution_count": 22,
   "metadata": {},
   "outputs": [],
   "source": [
    "m = interp1d([50,200],[100,200])\n",
    "m1 = interp1d([50*50,200*200],[100,200])"
   ]
  },
  {
   "cell_type": "code",
   "execution_count": 23,
   "metadata": {},
   "outputs": [],
   "source": [
    "bins = [( random.randint(700, 750), random.randint(700, 750) ) for k in range(10) ]\n"
   ]
  },
  {
   "cell_type": "code",
   "execution_count": 27,
   "metadata": {},
   "outputs": [],
   "source": [
    "rectangle_list=[]\n",
    "save_rectangles = {}\n",
    "#fixed = (150,150)\n",
    "for i in range(50000):\n",
    "    mylist = [ ( random.randint(50, 200), random.randint(50, 200) ) for k in range(30) ]\n",
    "    #mylist.append(fixed)\n",
    "    #mylist.append(fixed)\n",
    "    rectangle_list.append(mylist)\n",
    "    save_rectangles[i] = mylist\n",
    "pickle.dump(rectangle_list,open(\"save_rectangles\",\"wb\"))    "
   ]
  },
  {
   "cell_type": "code",
   "execution_count": 28,
   "metadata": {},
   "outputs": [],
   "source": [
    "myBin = []\n",
    "for rectangles in rectangle_list:\n",
    "        myList = []\n",
    "        packer = newPacker()\n",
    "        for r in rectangles:\n",
    "            packer.add_rect(*r)\n",
    "        for b in bins:\n",
    "            packer.add_bin(*b)\n",
    "        packer.pack()\n",
    "        all_rects = packer.rect_list()\n",
    "        for rect in all_rects:\n",
    "            myRect = []\n",
    "            if(rect[0]!=0):\n",
    "                continue\n",
    "            else:\n",
    "                myRect.append(rect[1])\n",
    "                myRect.append(rect[2])\n",
    "                myRect.append(rect[3])\n",
    "                myRect.append(rect[4])\n",
    "                myList.append(myRect)\n",
    "        myBin.append(myList)    "
   ]
  },
  {
   "cell_type": "code",
   "execution_count": 6,
   "metadata": {},
   "outputs": [],
   "source": [
    "Bin = np.zeros([bins[0][0],bins[0][1],3], dtype = np.uint8)\n",
    "Bin.fill(255)"
   ]
  },
  {
   "cell_type": "code",
   "execution_count": 17,
   "metadata": {},
   "outputs": [],
   "source": [
    "coordinates = []\n",
    "coordinates1 = []\n",
    "rectangles_list = {}"
   ]
  },
  {
   "cell_type": "code",
   "execution_count": 29,
   "metadata": {},
   "outputs": [],
   "source": [
    "for j in range(len(myBin)):\n",
    "    Bin = np.zeros([bins[0][0],bins[0][1],3], dtype = np.uint8)\n",
    "    Bin.fill(255)\n",
    "    for i in range(len(myBin[j])):\n",
    "                    #Area = int((myBin[j][i][3]*myBin[j][i][2]))\n",
    "                    #Packedin = cv2.rectangle(Bin,(myBin[j][i][0],myBin[j][i][1]),(myBin[j][i][0]+myBin[j][i][2],myBin[j][i][1]+myBin[j][i][3]),(int((Area/42500)*255),int((Area/42500)*255),int((Area/42500)*255)),-1)\n",
    "                    #Packedin = cv2.rectangle(Bin,(myBin[j][i][0],myBin[j][i][1]),(myBin[j][i][0]+myBin[j][i][2],myBin[j][i][1]+myBin[j][i][3]),(0,0,0),5) \n",
    "                    #print((Area,(Area/42500)*255))\n",
    "                    coordinates = [myBin[j][i][0],myBin[j][i][1],myBin[j][i][2],myBin[j][i][3]]\n",
    "                    coordinates1.append(coordinates)\n",
    "    rectangles_list[j] = coordinates1                \n",
    "    coordinates1 = []\n",
    "    #Packedin = cv2.resize(Packedin, (90,90))        \n",
    "    #cv2.imwrite(\"/home/pranav/Desktop/project/DataSet1/Bin\"+str(j)+\".jpg\", Packedin)\n",
    "pickle.dump(rectangles_list,open(\"save_sizes\",\"wb\"))        "
   ]
  },
  {
   "cell_type": "code",
   "execution_count": 41,
   "metadata": {},
   "outputs": [
    {
     "data": {
      "text/plain": [
       "24"
      ]
     },
     "execution_count": 41,
     "metadata": {},
     "output_type": "execute_result"
    }
   ],
   "source": [
    "int((4000/42500)*255)"
   ]
  },
  {
   "cell_type": "code",
   "execution_count": null,
   "metadata": {},
   "outputs": [],
   "source": []
  }
 ],
 "metadata": {
  "kernelspec": {
   "display_name": "Python 3",
   "language": "python",
   "name": "python3"
  },
  "language_info": {
   "codemirror_mode": {
    "name": "ipython",
    "version": 3
   },
   "file_extension": ".py",
   "mimetype": "text/x-python",
   "name": "python",
   "nbconvert_exporter": "python",
   "pygments_lexer": "ipython3",
   "version": "3.6.3"
  }
 },
 "nbformat": 4,
 "nbformat_minor": 2
}
