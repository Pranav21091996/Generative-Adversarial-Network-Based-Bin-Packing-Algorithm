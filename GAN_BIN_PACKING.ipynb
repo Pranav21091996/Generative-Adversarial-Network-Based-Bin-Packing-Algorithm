{
 "cells": [
  {
   "cell_type": "code",
   "execution_count": 1,
   "metadata": {},
   "outputs": [],
   "source": [
    "import tensorflow as tf\n",
    "import datetime\n",
    "import numpy as np\n",
    "import matplotlib.pyplot as plt\n",
    "\n",
    "%matplotlib inline"
   ]
  },
  {
   "cell_type": "code",
   "execution_count": 3,
   "metadata": {},
   "outputs": [
    {
     "data": {
      "text/plain": [
       "(50000, 256, 256, 3)"
      ]
     },
     "execution_count": 3,
     "metadata": {},
     "output_type": "execute_result"
    }
   ],
   "source": [
    "import helper\n",
    "from glob import glob\n",
    "import os\n",
    "from PIL import Image\n",
    "data_dir = './DataSet'\n",
    "data_files = glob(os.path.join(data_dir, 'Bin*.jpg'))\n",
    "IMAGE_HEIGHT = 256\n",
    "IMAGE_WIDTH = 256\n",
    "shape = len(data_files), IMAGE_WIDTH, IMAGE_HEIGHT, 3\n",
    "shape"
   ]
  },
  {
   "cell_type": "code",
   "execution_count": 3,
   "metadata": {},
   "outputs": [],
   "source": [
    "def get_batch(image_files, width, height, mode='RGB'):\n",
    "    \"\"\"\n",
    "    Get a single image\n",
    "    \"\"\"\n",
    "    data_batch = np.array(\n",
    "        [np.array((Image.open(sample_file)).convert(mode)) for sample_file in image_files]).astype(np.float32)\n",
    "\n",
    "    # Make sure the images are in 4 dimensions\n",
    "    if len(data_batch.shape) < 4:\n",
    "        data_batch = data_batch.reshape(data_batch.shape + (1,))\n",
    "\n",
    "    return data_batch\n",
    "\n",
    "def get_batches(batch_size):\n",
    "    \"\"\"\n",
    "    Generate batches\n",
    "    \"\"\"\n",
    "    IMAGE_MAX_VALUE = 255\n",
    "\n",
    "\n",
    "    current_index = 0\n",
    "    while current_index + batch_size <= shape[0]:\n",
    "        data_batch = get_batch(\n",
    "            data_files[current_index:current_index + batch_size],\n",
    "            *shape[1:3])\n",
    "\n",
    "        current_index += batch_size\n",
    "\n",
    "        yield data_batch / IMAGE_MAX_VALUE - 0.5"
   ]
  },
  {
   "cell_type": "code",
   "execution_count": 4,
   "metadata": {},
   "outputs": [],
   "source": [
    "def model_inputs(image_width, image_height, image_channel, z_dim):\n",
    "    inputs_real = tf.placeholder(tf.float32, (None, image_height,image_width, image_channel), name = 'input_real')\n",
    "    inputs_z = tf.placeholder(tf.float32, (None, z_dim), name = 'input_z')\n",
    "    learning_rate = tf.placeholder(tf.float32, name = 'learning_rate')\n",
    "    \n",
    "    return inputs_real, inputs_z, learning_rate"
   ]
  },
  {
   "cell_type": "code",
   "execution_count": 5,
   "metadata": {},
   "outputs": [],
   "source": [
    "def discriminator(images, reuse=False):\n",
    "    with tf.variable_scope('discriminator', reuse=reuse):\n",
    "        alpha = 0.2\n",
    "        x1 = tf.layers.conv2d(images, 64, 5, strides = 2, padding = 'same')\n",
    "        relu1 = tf.maximum(alpha*x1,x1)\n",
    "        \n",
    "        x2 = tf.layers.conv2d(relu1, 128, 5, strides = 2, padding = 'same')\n",
    "        bn2 = tf.layers.batch_normalization(x2, training = True)\n",
    "        relu2 = tf.maximum(alpha*x2, x2)\n",
    "        \n",
    "        x3 = tf.layers.conv2d(relu2, 256, 5, strides = 1, padding = 'same')\n",
    "        bn3 = tf.layers.batch_normalization(x3, training = False)\n",
    "        relu3 = tf.maximum(alpha*x3, x3)\n",
    "        \n",
    "        flat = tf.reshape(relu3, (-1,4*4*256))\n",
    "        logits = tf.layers.dense(flat, 1)\n",
    "        out = tf.sigmoid(logits)\n",
    "        \n",
    "        return out,logits\n",
    "    "
   ]
  },
  {
   "cell_type": "code",
   "execution_count": 6,
   "metadata": {},
   "outputs": [],
   "source": [
    "def generator(z, out_channel_dim, is_train = True):\n",
    "    with tf.variable_scope('generator', reuse=False if is_train==True else True):\n",
    "        \n",
    "        alpha = 0.2\n",
    "        \n",
    "        x1 = tf.layers.dense(z, 2*2*512)\n",
    "        x1 = tf.reshape(x1, (-1, 2, 2, 512))\n",
    "        x1 = tf.layers.batch_normalization(x1, training = is_train)\n",
    "        x1 = tf.maximum(alpha*x1,x1)\n",
    "        \n",
    "        x2 = tf.layers.conv2d_transpose(x1, 256, 5, strides = 2, padding = 'VALID')\n",
    "        x2 = tf.layers.batch_normalization(x2, training = is_train)\n",
    "        x2 = tf.maximum(alpha*x2, x2)\n",
    "        \n",
    "        x3 = tf.layers.conv2d_transpose(x2, 128, 5, strides = 2, padding = 'same')\n",
    "        x3 = tf.layers.batch_normalization(x3, training = is_train)\n",
    "        x3 = tf.maximum(alpha*x3, x3)\n",
    "        \n",
    "        logits = tf.layers.conv2d_transpose(x3, out_channel_dim, 5, strides = 2, padding = 'same')\n",
    "        \n",
    "        out = tf.tanh(logits)\n",
    "        \n",
    "        return out\n",
    "        "
   ]
  },
  {
   "cell_type": "code",
   "execution_count": 7,
   "metadata": {},
   "outputs": [],
   "source": [
    "def model_loss(input_real, input_z, out_channel_dim):\n",
    "    label_smoothing = 0.9\n",
    "    \n",
    "    g_model = generator(input_z, out_channel_dim)\n",
    "    d_model_real, d_logits_real = discriminator(input_real)\n",
    "    d_model_fake, d_logits_fake = discriminator(g_model, reuse=True)\n",
    "    \n",
    "    d_loss_real = tf.reduce_mean(\n",
    "        tf.nn.sigmoid_cross_entropy_with_logits(logits=d_logits_real,\n",
    "                                                labels=tf.ones_like(d_model_real) * label_smoothing))\n",
    "    d_loss_fake = tf.reduce_mean(\n",
    "        tf.nn.sigmoid_cross_entropy_with_logits(logits=d_logits_fake,\n",
    "                                                labels=tf.zeros_like(d_model_fake)))\n",
    "    \n",
    "    d_loss = d_loss_real + d_loss_fake\n",
    "                                                  \n",
    "    g_loss = tf.reduce_mean(\n",
    "        tf.nn.sigmoid_cross_entropy_with_logits(logits=d_logits_fake,\n",
    "                                                labels=tf.ones_like(d_model_fake) * label_smoothing))\n",
    "    \n",
    "    \n",
    "    return d_loss, g_loss"
   ]
  },
  {
   "cell_type": "code",
   "execution_count": 8,
   "metadata": {},
   "outputs": [],
   "source": [
    "def model_opt(d_loss, g_loss, learning_rate, beta1):\n",
    "    t_vars = tf.trainable_variables()\n",
    "    d_vars = [var for var in t_vars if var.name.startswith('discriminator')]\n",
    "    g_vars = [var for var in t_vars if var.name.startswith('generator')]\n",
    "\n",
    "    with tf.control_dependencies(tf.get_collection(tf.GraphKeys.UPDATE_OPS)): \n",
    "        \n",
    "        d_train_opt = tf.train.AdamOptimizer(learning_rate=learning_rate, beta1=beta1).minimize(d_loss, var_list=d_vars)\n",
    "        g_train_opt = tf.train.AdamOptimizer(learning_rate=learning_rate, beta1=beta1).minimize(g_loss, var_list=g_vars)\n",
    "\n",
    "        return d_train_opt, g_train_opt\n"
   ]
  },
  {
   "cell_type": "code",
   "execution_count": 9,
   "metadata": {},
   "outputs": [],
   "source": [
    "import numpy as np\n",
    "import helper\n",
    "def show_generator_output(sess, n_images, input_z, out_channel_dim):\n",
    "    z_dim = input_z.get_shape().as_list()[-1]\n",
    "    example_z = np.random.uniform(-1, 1, size=[n_images, z_dim])\n",
    "\n",
    "    samples = sess.run(\n",
    "        generator(input_z, out_channel_dim, False),\n",
    "        feed_dict={input_z: example_z})\n",
    "\n",
    "    \n",
    "    plt.imshow(samples.squeeze())\n",
    "    plt.show()"
   ]
  },
  {
   "cell_type": "code",
   "execution_count": 10,
   "metadata": {},
   "outputs": [],
   "source": [
    "def train(epoch_count, batch_size, z_dim, learning_rate, beta1, get_batches, data_shape):\n",
    "    \"\"\"\n",
    "    Train the GAN\n",
    "    \"\"\"\n",
    "    input_real, input_z, _ = model_inputs(data_shape[1], data_shape[2], data_shape[3], z_dim)\n",
    "    d_loss, g_loss = model_loss(input_real, input_z, data_shape[3])\n",
    "    d_opt, g_opt = model_opt(d_loss, g_loss, learning_rate, beta1)\n",
    "    \n",
    "    steps = 0\n",
    "    \n",
    "    with tf.Session() as sess:\n",
    "        sess.run(tf.global_variables_initializer())\n",
    "        for epoch_i in range(epoch_count):\n",
    "            for batch_images in get_batches(batch_size):\n",
    "                \n",
    "                # values range from -0.5 to 0.5, therefore scale to range -1, 1\n",
    "                batch_images = batch_images * 2\n",
    "                steps += 1\n",
    "            \n",
    "                batch_z = np.random.uniform(-1, 1, size=(batch_size, z_dim))\n",
    "                \n",
    "                _ = sess.run(d_opt, feed_dict={input_real: batch_images, input_z: batch_z})\n",
    "                _ = sess.run(g_opt, feed_dict={input_real: batch_images, input_z: batch_z})\n",
    "                \n",
    "                if steps % 400 == 0:\n",
    "                    # At the end of every 10 epochs, get the losses and print them out\n",
    "                    train_loss_d = d_loss.eval({input_z: batch_z, input_real: batch_images})\n",
    "                    train_loss_g = g_loss.eval({input_z: batch_z})\n",
    "\n",
    "                    print(\"Epoch {}/{}...\".format(epoch_i+1, epochs),\n",
    "                          \"Discriminator Loss: {:.4f}...\".format(train_loss_d),\n",
    "                          \"Generator Loss: {:.4f}\".format(train_loss_g))\n",
    "                    \n",
    "                  #  _ = show_generator_output(sess, 1, input_z, data_shape[3])"
   ]
  },
  {
   "cell_type": "code",
   "execution_count": null,
   "metadata": {},
   "outputs": [
    {
     "name": "stdout",
     "output_type": "stream",
     "text": [
      "Epoch 1/2... Discriminator Loss: 0.3721... Generator Loss: 3.8298\n",
      "Epoch 1/2... Discriminator Loss: 0.3379... Generator Loss: 5.5845\n",
      "Epoch 1/2... Discriminator Loss: 0.3289... Generator Loss: 6.0023\n",
      "Epoch 1/2... Discriminator Loss: 0.3336... Generator Loss: 6.8066\n",
      "Epoch 1/2... Discriminator Loss: 0.3302... Generator Loss: 7.0279\n",
      "Epoch 1/2... Discriminator Loss: 0.3261... Generator Loss: 7.2199\n",
      "Epoch 1/2... Discriminator Loss: 0.3270... Generator Loss: 7.3583\n",
      "Epoch 2/2... Discriminator Loss: 0.3259... Generator Loss: 7.5594\n",
      "Epoch 2/2... Discriminator Loss: 0.3264... Generator Loss: 7.6886\n",
      "Epoch 2/2... Discriminator Loss: 0.3269... Generator Loss: 7.8367\n",
      "Epoch 2/2... Discriminator Loss: 0.3257... Generator Loss: 8.2482\n",
      "Epoch 2/2... Discriminator Loss: 0.3255... Generator Loss: 8.2696\n",
      "Epoch 2/2... Discriminator Loss: 0.3254... Generator Loss: 8.2697\n",
      "Epoch 2/2... Discriminator Loss: 0.3283... Generator Loss: 8.4550\n"
     ]
    }
   ],
   "source": [
    "batch_size = 16\n",
    "z_dim = 100\n",
    "learning_rate = 0.0002\n",
    "beta1 = 0.5\n",
    "epochs = 2\n",
    "\n",
    "with tf.Graph().as_default():\n",
    "    train(epochs, batch_size, z_dim, learning_rate, beta1, get_batches, shape)"
   ]
  },
  {
   "cell_type": "code",
   "execution_count": null,
   "metadata": {},
   "outputs": [],
   "source": [
    "z_placeholder = tf.placeholder(tf.float32, [None, z_dim])\n",
    "sample_image = generator(z_placeholder, 3)\n",
    "z_batch = np.random.normal(-1, 1, size=[1, z_dim])\n",
    "temp = (sess.run(sample_image, feed_dict={z_placeholder: z_batch}))\n",
    "my_i = temp.squeeze()\n",
    "plt.imshow(my_i)\n",
    "plt.show()"
   ]
  }
 ],
 "metadata": {
  "kernelspec": {
   "display_name": "Python 3",
   "language": "python",
   "name": "python3"
  },
  "language_info": {
   "codemirror_mode": {
    "name": "ipython",
    "version": 3
   },
   "file_extension": ".py",
   "mimetype": "text/x-python",
   "name": "python",
   "nbconvert_exporter": "python",
   "pygments_lexer": "ipython3",
   "version": "3.6.3"
  }
 },
 "nbformat": 4,
 "nbformat_minor": 2
}
